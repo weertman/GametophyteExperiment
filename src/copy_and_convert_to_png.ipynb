{
 "cells": [
  {
   "cell_type": "code",
   "execution_count": 4,
   "id": "38c7f54b",
   "metadata": {},
   "outputs": [
    {
     "name": "stderr",
     "output_type": "stream",
     "text": [
      " 34%|██████████████▍                            | 30/89 [04:09<05:31,  5.62s/it]"
     ]
    },
    {
     "name": "stdout",
     "output_type": "stream",
     "text": [
      "Skipping corrupted image: /Users/wlweert/Documents/hypothesis-writing/GametophyteExperiment/data/Augie_Gametophyte_Experiment/5_6_2023/G6/Basler_a2A2600-64ucPRO__40219375__20230506_171353129_0000.tiff\n",
      "Skipping corrupted image: /Users/wlweert/Documents/hypothesis-writing/GametophyteExperiment/data/Augie_Gametophyte_Experiment/5_6_2023/G6/Basler_a2A2600-64ucPRO__40219375__20230506_171314292_0000.tiff\n"
     ]
    },
    {
     "name": "stderr",
     "output_type": "stream",
     "text": [
      " 36%|███████████████▍                           | 32/89 [04:20<05:08,  5.42s/it]"
     ]
    },
    {
     "name": "stdout",
     "output_type": "stream",
     "text": [
      "Skipping corrupted image: /Users/wlweert/Documents/hypothesis-writing/GametophyteExperiment/data/Augie_Gametophyte_Experiment/5_6_2023/G9/Basler_a2A2600-64ucPRO__40219375__20230506_171643524_0000.tiff\n"
     ]
    },
    {
     "name": "stderr",
     "output_type": "stream",
     "text": [
      " 47%|████████████████████▎                      | 42/89 [05:13<02:58,  3.80s/it]"
     ]
    },
    {
     "name": "stdout",
     "output_type": "stream",
     "text": [
      "Skipping corrupted image: /Users/wlweert/Documents/hypothesis-writing/GametophyteExperiment/data/Augie_Gametophyte_Experiment/5_6_2023/U2/Basler_a2A2600-64ucPRO__40219375__20230506_175247852_0000.tiff\n"
     ]
    },
    {
     "name": "stderr",
     "output_type": "stream",
     "text": [
      " 57%|████████████████████████▋                  | 51/89 [06:17<04:48,  7.58s/it]"
     ]
    },
    {
     "name": "stdout",
     "output_type": "stream",
     "text": [
      "Skipping corrupted image: /Users/wlweert/Documents/hypothesis-writing/GametophyteExperiment/data/Augie_Gametophyte_Experiment/5_6_2023/5_15_2023/Basler_a2A2600-64ucPRO__40219375__20230516_124010380_0000.tiff\n"
     ]
    },
    {
     "name": "stderr",
     "output_type": "stream",
     "text": [
      " 71%|██████████████████████████████▍            | 63/89 [07:16<02:04,  4.79s/it]"
     ]
    },
    {
     "name": "stdout",
     "output_type": "stream",
     "text": [
      "Skipping corrupted image: /Users/wlweert/Documents/hypothesis-writing/GametophyteExperiment/data/Augie_Gametophyte_Experiment/5_6_2023/5_15_2023/g5/Basler_a2A2600-64ucPRO__40219375__20230515_180225883_0000.tiff\n"
     ]
    },
    {
     "name": "stderr",
     "output_type": "stream",
     "text": [
      " 79%|█████████████████████████████████▊         | 70/89 [07:56<02:04,  6.56s/it]"
     ]
    },
    {
     "name": "stdout",
     "output_type": "stream",
     "text": [
      "Skipping corrupted image: /Users/wlweert/Documents/hypothesis-writing/GametophyteExperiment/data/Augie_Gametophyte_Experiment/5_12_2023/Basler_a2A2600-64ucPRO__40219375__20230512_211524397_0000.tiff\n",
      "Skipping corrupted image: /Users/wlweert/Documents/hypothesis-writing/GametophyteExperiment/data/Augie_Gametophyte_Experiment/5_12_2023/Basler_a2A2600-64ucPRO__40219375__20230512_211435522_0000.tiff\n"
     ]
    },
    {
     "name": "stderr",
     "output_type": "stream",
     "text": [
      "\r",
      " 80%|██████████████████████████████████▎        | 71/89 [08:02<01:55,  6.40s/it]"
     ]
    },
    {
     "name": "stdout",
     "output_type": "stream",
     "text": [
      "Skipping corrupted image: /Users/wlweert/Documents/hypothesis-writing/GametophyteExperiment/data/Augie_Gametophyte_Experiment/5_12_2023/g6/Basler_a2A2600-64ucPRO__40219375__20230512_201707001_0000.tiff\n"
     ]
    },
    {
     "name": "stderr",
     "output_type": "stream",
     "text": [
      "\r",
      " 81%|██████████████████████████████████▊        | 72/89 [08:13<02:11,  7.76s/it]"
     ]
    },
    {
     "name": "stdout",
     "output_type": "stream",
     "text": [
      "Skipping corrupted image: /Users/wlweert/Documents/hypothesis-writing/GametophyteExperiment/data/Augie_Gametophyte_Experiment/5_12_2023/g1/Basler_a2A2600-64ucPRO__40219375__20230512_201143716_0000.tiff\n"
     ]
    },
    {
     "name": "stderr",
     "output_type": "stream",
     "text": [
      " 83%|███████████████████████████████████▊       | 74/89 [08:31<02:06,  8.40s/it]"
     ]
    },
    {
     "name": "stdout",
     "output_type": "stream",
     "text": [
      "Skipping corrupted image: /Users/wlweert/Documents/hypothesis-writing/GametophyteExperiment/data/Augie_Gametophyte_Experiment/5_12_2023/g9/Basler_a2A2600-64ucPRO__40219375__20230512_202140323_0000.tiff\n"
     ]
    },
    {
     "name": "stderr",
     "output_type": "stream",
     "text": [
      "\r",
      " 84%|████████████████████████████████████▏      | 75/89 [08:43<02:16,  9.73s/it]"
     ]
    },
    {
     "name": "stdout",
     "output_type": "stream",
     "text": [
      "Skipping corrupted image: /Users/wlweert/Documents/hypothesis-writing/GametophyteExperiment/data/Augie_Gametophyte_Experiment/5_12_2023/g7/Basler_a2A2600-64ucPRO__40219375__20230512_201859138_0000.tiff\n"
     ]
    },
    {
     "name": "stderr",
     "output_type": "stream",
     "text": [
      " 88%|█████████████████████████████████████▋     | 78/89 [09:36<02:58, 16.24s/it]"
     ]
    },
    {
     "name": "stdout",
     "output_type": "stream",
     "text": [
      "Skipping corrupted image: /Users/wlweert/Documents/hypothesis-writing/GametophyteExperiment/data/Augie_Gametophyte_Experiment/5_12_2023/g14/Basler_a2A2600-64ucPRO__40219375__20230512_204728946_0000.tiff\n"
     ]
    },
    {
     "name": "stderr",
     "output_type": "stream",
     "text": [
      "\r",
      " 89%|██████████████████████████████████████▏    | 79/89 [09:57<02:57, 17.74s/it]"
     ]
    },
    {
     "name": "stdout",
     "output_type": "stream",
     "text": [
      "Skipping corrupted image: /Users/wlweert/Documents/hypothesis-writing/GametophyteExperiment/data/Augie_Gametophyte_Experiment/5_12_2023/g13/Basler_a2A2600-64ucPRO__40219375__20230512_204344097_0000.tiff\n"
     ]
    },
    {
     "name": "stderr",
     "output_type": "stream",
     "text": [
      " 96%|█████████████████████████████████████████  | 85/89 [10:58<00:44, 11.10s/it]"
     ]
    },
    {
     "name": "stdout",
     "output_type": "stream",
     "text": [
      "Skipping corrupted image: /Users/wlweert/Documents/hypothesis-writing/GametophyteExperiment/data/Augie_Gametophyte_Experiment/5_12_2023/g11/Basler_a2A2600-64ucPRO__40219375__20230512_203053497_0000.tiff\n"
     ]
    },
    {
     "name": "stderr",
     "output_type": "stream",
     "text": [
      "\r",
      " 97%|█████████████████████████████████████████▌ | 86/89 [11:13<00:36, 12.33s/it]"
     ]
    },
    {
     "name": "stdout",
     "output_type": "stream",
     "text": [
      "Skipping corrupted image: /Users/wlweert/Documents/hypothesis-writing/GametophyteExperiment/data/Augie_Gametophyte_Experiment/5_12_2023/g18/Basler_a2A2600-64ucPRO__40219375__20230512_211024555_0000.tiff\n",
      "Skipping corrupted image: /Users/wlweert/Documents/hypothesis-writing/GametophyteExperiment/data/Augie_Gametophyte_Experiment/5_12_2023/g18/Basler_a2A2600-64ucPRO__40219375__20230512_210848924_0000.tiff\n"
     ]
    },
    {
     "name": "stderr",
     "output_type": "stream",
     "text": [
      "100%|███████████████████████████████████████████| 89/89 [12:11<00:00,  8.22s/it]\n"
     ]
    }
   ],
   "source": [
    "import os\n",
    "import shutil\n",
    "from PIL import Image, UnidentifiedImageError\n",
    "from tqdm import tqdm\n",
    "\n",
    "def convert_tiff_to_png(file_path, new_file_path):\n",
    "    try:\n",
    "        image = Image.open(file_path)\n",
    "        image.save(new_file_path, \"PNG\")\n",
    "    except UnidentifiedImageError:\n",
    "        print(f\"Skipping corrupted image: {file_path}\")\n",
    "\n",
    "def copy_and_convert(root_dir, new_root):\n",
    "    # Create the new root directory if it doesn't exist\n",
    "    if not os.path.exists(new_root):\n",
    "        os.makedirs(new_root)\n",
    "\n",
    "    n = 0\n",
    "    for _, _, _ in os.walk(root_dir):\n",
    "        n += 1\n",
    "    \n",
    "    pbar = tqdm(total = n, position=0, leave=True)\n",
    "    for dirpath, dirnames, filenames in os.walk(root_dir):\n",
    "        # Create an equivalent directory in the new_root\n",
    "        new_dirpath = os.path.join(new_root, os.path.relpath(dirpath, root_dir))\n",
    "        os.makedirs(new_dirpath, exist_ok=True)\n",
    "\n",
    "        for filename in filenames:\n",
    "            file_path = os.path.join(dirpath, filename)\n",
    "            new_file_path = os.path.join(new_dirpath, filename)\n",
    "\n",
    "            # Check if the file is a .tiff image\n",
    "            if file_path.lower().endswith('.tiff'):\n",
    "                # Convert the .tiff image to .png\n",
    "                new_file_path = new_file_path[:-4] + \"png\"\n",
    "                convert_tiff_to_png(file_path, new_file_path)\n",
    "            else:\n",
    "                # Copy other files without modification\n",
    "                shutil.copy2(file_path, new_file_path)\n",
    "        pbar.update(n=1)\n",
    "    pbar.close()\n",
    "\n",
    "root_dir = \"/Users/wlweert/Documents/hypothesis-writing/GametophyteExperiment/data/Augie_Gametophyte_Experiment\"\n",
    "new_root = os.path.join(os.path.dirname(root_dir), 'PNG__Augie_Gametophyte_Experiment')\n",
    "if os.path.exists(new_root) != True:\n",
    "    os.mkdir(new_root)\n",
    "copy_and_convert(root_dir, new_root)"
   ]
  }
 ],
 "metadata": {
  "kernelspec": {
   "display_name": "Python 3 (ipykernel)",
   "language": "python",
   "name": "python3"
  },
  "language_info": {
   "codemirror_mode": {
    "name": "ipython",
    "version": 3
   },
   "file_extension": ".py",
   "mimetype": "text/x-python",
   "name": "python",
   "nbconvert_exporter": "python",
   "pygments_lexer": "ipython3",
   "version": "3.9.7"
  }
 },
 "nbformat": 4,
 "nbformat_minor": 5
}
